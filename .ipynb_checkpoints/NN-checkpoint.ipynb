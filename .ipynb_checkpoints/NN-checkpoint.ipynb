{
 "cells": [
  {
   "cell_type": "code",
   "execution_count": 25,
   "metadata": {},
   "outputs": [],
   "source": [
    "import tensorflow as tf\n",
    "import numpy as np\n",
    "from keras.models import Sequential\n",
    "from keras.layers import Conv1D, MaxPooling1D, Dense"
   ]
  },
  {
   "cell_type": "code",
   "execution_count": 26,
   "metadata": {},
   "outputs": [],
   "source": [
    "num_frames = 599\n",
    "num_freq_bins = 128\n",
    "dummy_data = np.random.random((num_frames, num_freq_bins))\n",
    "num_conv_filters_1 = 256\n",
    "kernel_size = 4"
   ]
  },
  {
   "cell_type": "code",
   "execution_count": 27,
   "metadata": {},
   "outputs": [],
   "source": [
    "class AudioCNNModel():\n",
    "    def __init__(self, num_frames, num_freq_bins, num_conv_filters1, pool_size_1, kernel_size):\n",
    "        \n",
    "        self.net = Sequential()\n",
    "        self.num_frames = num_frames\n",
    "        self.num_freq_bins = num_freq_bins\n",
    "        self.num_conv_filters1 = num_conv_filters1\n",
    "        self.pool_size1 = pool_size_1\n",
    "        self.kernel_size = kernel_size\n",
    "        \n",
    "        conv1 = keras.layers.Conv1D(filters=self.num_conv_filters1, kernel_size=self.kernel_size, input_shape=(self.num_frames, self.num_freq_bins))\n",
    "        pool1 = keras.layers.MaxPooling1D(pool_size=self.pool_size1)\n",
    "        conv2 = keras.layers.Conv1D(filters=256, kernel_size=self.kernel_size)\n",
    "        pool2 = keras.layers.MaxPooling1D(pool_size=2)\n",
    "        conv3 = keras.layers.Conv1D(filters=512, kernel_size=self.kernel_size)\n",
    "        pool3 = keras.layers.MaxPooling1D(pool_size=2)\n",
    "\n",
    "        self.net.add(conv1)\n",
    "        self.net.add(pool1)\n",
    "        self.net.add(conv2)\n",
    "        self.net.add(pool2)\n",
    "        self.net.add(conv3)\n",
    "        self.net.add(pool3)\n",
    "        #TODO: Add temporal pooling, L2, average here\n",
    "        self.net.add(Dense(2048, activation='relu'))\n",
    "        self.net.add(Dense(2048, activation='relu'))\n",
    "        self.net.add(Dense(40))\n",
    "        \n",
    "        \n"
   ]
  },
  {
   "cell_type": "code",
   "execution_count": 29,
   "metadata": {},
   "outputs": [
    {
     "data": {
      "text/plain": [
       "(2, 35, 40)"
      ]
     },
     "execution_count": 29,
     "metadata": {},
     "output_type": "execute_result"
    }
   ],
   "source": [
    "model = AudioCNNModel(num_frames, num_freq_bins, num_conv_filters_1, 4, kernel_size)\n",
    "model.net.predict(np.array([dummy_data, dummy_data])).shape"
   ]
  },
  {
   "cell_type": "code",
   "execution_count": null,
   "metadata": {},
   "outputs": [],
   "source": []
  }
 ],
 "metadata": {
  "kernelspec": {
   "display_name": "Python 3",
   "language": "python",
   "name": "python3"
  },
  "language_info": {
   "codemirror_mode": {
    "name": "ipython",
    "version": 3
   },
   "file_extension": ".py",
   "mimetype": "text/x-python",
   "name": "python",
   "nbconvert_exporter": "python",
   "pygments_lexer": "ipython3",
   "version": "3.6.8"
  }
 },
 "nbformat": 4,
 "nbformat_minor": 2
}
