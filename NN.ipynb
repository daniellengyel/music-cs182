{
 "cells": [
  {
   "cell_type": "code",
   "execution_count": 2,
   "metadata": {},
   "outputs": [
    {
     "name": "stderr",
     "output_type": "stream",
     "text": [
      "Using TensorFlow backend.\n"
     ]
    }
   ],
   "source": [
    "import tensorflow as tf\n",
    "import numpy as np\n",
    "from keras.models import Model\n",
    "from keras.layers import Conv1D, MaxPooling1D, Dense, Lambda, concatenate, Input, GlobalMaxPooling1D, GlobalAveragePooling1D\n",
    "import keras.backend as K\n",
    "\n",
    "\n"
   ]
  },
  {
   "cell_type": "code",
   "execution_count": 3,
   "metadata": {},
   "outputs": [],
   "source": [
    "num_frames = 599\n",
    "num_freq_bins = 128\n",
    "dummy_data = np.random.random((num_frames, num_freq_bins))\n",
    "num_conv_filters_1 = 256\n",
    "kernel_size = 4"
   ]
  },
  {
   "cell_type": "code",
   "execution_count": 4,
   "metadata": {},
   "outputs": [],
   "source": [
    "def l2_norm(x):\n",
    "    x = x ** 2\n",
    "    x = K.sum(x, axis=1)\n",
    "    x = K.sqrt(x)\n",
    "    return x"
   ]
  },
  {
   "cell_type": "code",
   "execution_count": 5,
   "metadata": {},
   "outputs": [],
   "source": [
    "class AudioCNNModel():\n",
    "    def __init__(self, num_frames, num_freq_bins, num_conv_filters1, pool_size_1, kernel_size):\n",
    "        \n",
    "        self.num_frames = num_frames\n",
    "        self.num_freq_bins = num_freq_bins\n",
    "        self.num_conv_filters1 = num_conv_filters1\n",
    "        self.pool_size1 = pool_size_1\n",
    "        self.kernel_size = kernel_size\n",
    "        self.model_input = Input(shape=(num_frames, num_freq_bins))\n",
    "        \n",
    "        x = Conv1D(filters=self.num_conv_filters1, kernel_size=self.kernel_size, input_shape=(self.num_frames, self.num_freq_bins))(self.model_input)\n",
    "        x = MaxPooling1D(pool_size=self.pool_size1)(x)\n",
    "        x = Conv1D(filters=256, kernel_size=self.kernel_size)(x)\n",
    "        x = MaxPooling1D(pool_size=2)(x)\n",
    "        x = Conv1D(filters=512, kernel_size=self.kernel_size)(x)\n",
    "        x = MaxPooling1D(pool_size=2)(x)\n",
    "\n",
    "        #temporal pooling, L2, mean\n",
    "        max_layer = GlobalMaxPooling1D(data_format='channels_last')(x)\n",
    "        mean_layer = GlobalAveragePooling1D(data_format='channels_last')(x)\n",
    "        L2_layer = Lambda(lambda x: l2_norm(x))(x)\n",
    "        #TODO:concatenate\n",
    "        \n",
    "        x = concatenate([max_layer, mean_layer, L2_layer])\n",
    "        #End\n",
    "        x = Dense(2048, activation='relu')(x)\n",
    "        x = Dense(2048, activation='relu')(x)\n",
    "        latent_factors = Dense(50)(x)\n",
    "        self.net = Model(inputs=self.model_input, outputs=latent_factors)\n",
    "        \n",
    "        \n"
   ]
  },
  {
   "cell_type": "code",
   "execution_count": 6,
   "metadata": {},
   "outputs": [
    {
     "name": "stdout",
     "output_type": "stream",
     "text": [
      "WARNING:tensorflow:From /home/dhruv/anaconda3/lib/python3.7/site-packages/tensorflow/python/framework/op_def_library.py:263: colocate_with (from tensorflow.python.framework.ops) is deprecated and will be removed in a future version.\n",
      "Instructions for updating:\n",
      "Colocations handled automatically by placer.\n"
     ]
    },
    {
     "data": {
      "text/plain": [
       "(1, 50)"
      ]
     },
     "execution_count": 6,
     "metadata": {},
     "output_type": "execute_result"
    }
   ],
   "source": [
    "model = AudioCNNModel(num_frames, num_freq_bins, num_conv_filters_1, 4, kernel_size)\n",
    "model.net.predict(np.array([dummy_data])).shape"
   ]
  },
  {
   "cell_type": "code",
   "execution_count": 14,
   "metadata": {},
   "outputs": [
    {
     "name": "stdout",
     "output_type": "stream",
     "text": [
      "(588, 12)\n"
     ]
    }
   ],
   "source": [
    "sample = np.loadtxt(open(\"mfcc.csv\", \"rb\"), delimiter=\",\")\n",
    "print(sample.shape)"
   ]
  },
  {
   "cell_type": "code",
   "execution_count": 18,
   "metadata": {},
   "outputs": [
    {
     "data": {
      "text/plain": [
       "array([[-1.9806973e+01, -5.3713846e-01, -4.7246750e+01,  2.5584368e+01,\n",
       "        -9.9681311e+00,  1.2044224e+01, -2.7165415e+01, -2.3274740e+01,\n",
       "         1.6299646e+00, -1.4168367e+00,  1.4296337e+01,  1.9536862e+00,\n",
       "        -2.7003475e+01,  9.3044968e+00, -3.7653595e-01, -3.0715734e+01,\n",
       "         4.0956821e+01, -1.1072885e+01, -1.9723230e+01, -1.0651125e+01,\n",
       "         3.1175880e+01,  1.3052781e+01, -8.3524621e-01, -1.4944993e+01,\n",
       "        -5.1835122e+00, -2.2642338e+01, -3.1236853e+01,  1.3683222e+01,\n",
       "         3.3727884e-02, -3.0168636e+01, -2.7883751e+01, -2.1144281e+01,\n",
       "        -1.5089521e+00, -3.6744213e+01, -4.7313204e+00,  2.1528519e+01,\n",
       "        -1.4222992e+01,  1.3659893e+01, -2.0891195e+01,  7.4002576e-01,\n",
       "         1.3385822e+01, -2.2731121e+01,  4.0953937e+00,  1.6503340e+01,\n",
       "         1.5168604e+01, -2.8626774e+01,  1.7193834e+01, -1.0743925e+01,\n",
       "        -1.0019341e+01,  1.5123607e+01]], dtype=float32)"
      ]
     },
     "execution_count": 18,
     "metadata": {},
     "output_type": "execute_result"
    }
   ],
   "source": [
    "model = AudioCNNModel(588, 12, num_conv_filters_1, 4, kernel_size)\n",
    "model.net.predict(np.array([sample]))"
   ]
  },
  {
   "cell_type": "code",
   "execution_count": null,
   "metadata": {},
   "outputs": [],
   "source": []
  }
 ],
 "metadata": {
  "kernelspec": {
   "display_name": "Python 3",
   "language": "python",
   "name": "python3"
  },
  "language_info": {
   "codemirror_mode": {
    "name": "ipython",
    "version": 3
   },
   "file_extension": ".py",
   "mimetype": "text/x-python",
   "name": "python",
   "nbconvert_exporter": "python",
   "pygments_lexer": "ipython3",
   "version": "3.7.1"
  }
 },
 "nbformat": 4,
 "nbformat_minor": 2
}
