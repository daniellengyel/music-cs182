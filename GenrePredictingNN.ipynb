{
 "cells": [
  {
   "cell_type": "code",
   "execution_count": 1,
   "metadata": {},
   "outputs": [
    {
     "name": "stderr",
     "output_type": "stream",
     "text": [
      "Using TensorFlow backend.\n"
     ]
    }
   ],
   "source": [
    "import tensorflow as tf\n",
    "import numpy as np\n",
    "import keras\n",
    "from keras.models import Model\n",
    "from keras.layers import Conv1D, MaxPooling1D, Dense, Lambda, concatenate, Input, GlobalMaxPooling1D, GlobalAveragePooling1D\n",
    "import keras.backend as K\n",
    "import pandas as pd\n",
    "import json\n",
    "import pickle\n",
    "import random\n",
    "import sklearn\n",
    "from sklearn.model_selection import train_test_split\n",
    "from sklearn.preprocessing import normalize\n",
    "import matplotlib.pyplot as plt"
   ]
  },
  {
   "cell_type": "code",
   "execution_count": 166,
   "metadata": {},
   "outputs": [],
   "source": [
    "num_frames = 599\n",
    "num_freq_bins = 128\n",
    "dummy_data = np.random.random((num_frames, num_freq_bins))\n",
    "num_conv_filters_1 = 256\n",
    "kernel_size = 4\n",
    "num_genres = 18\n",
    "embedding_dimension=300\n",
    "def l2_norm(x, axis):\n",
    "    x = x ** 2\n",
    "    x = K.sum(x, axis=axis)\n",
    "    x = K.sqrt(x)\n",
    "    return x"
   ]
  },
  {
   "cell_type": "code",
   "execution_count": null,
   "metadata": {},
   "outputs": [],
   "source": [
    "#Get embedding data\n"
   ]
  },
  {
   "cell_type": "code",
   "execution_count": 167,
   "metadata": {},
   "outputs": [],
   "source": [
    "class AudioCNNModel():\n",
    "    def __init__(self, num_frames, num_freq_bins, num_conv_filters1, pool_size_1, kernel_size, num_genres, embedding_dimension):\n",
    "        \n",
    "        self.num_frames = num_frames\n",
    "        self.num_freq_bins = num_freq_bins\n",
    "        self.num_conv_filters1 = num_conv_filters1\n",
    "        self.pool_size1 = pool_size_1\n",
    "        self.kernel_size = kernel_size\n",
    "        self.chroma_input = Input(shape=(num_frames, num_freq_bins))\n",
    "        self.mfcc_input = Input(shape=(num_frames, num_freq_bins))\n",
    "        self.embedding_input = Input(shape=(embedding_dimension,))\n",
    "        \n",
    "        chroma = Conv1D(filters=self.num_conv_filters1, kernel_size=self.kernel_size, input_shape=(self.num_frames, self.num_freq_bins))(self.chroma_input)\n",
    "        chroma = MaxPooling1D(pool_size=self.pool_size1)(chroma)\n",
    "        chroma = Conv1D(filters=256, kernel_size=self.kernel_size)(chroma)\n",
    "        chroma = MaxPooling1D(pool_size=2)(chroma)\n",
    "        chroma = Conv1D(filters=512, kernel_size=self.kernel_size)(chroma)\n",
    "        chroma = MaxPooling1D(pool_size=2)(chroma)\n",
    "\n",
    "        #temporal pooling, L2, mean\n",
    "        max_layer = GlobalMaxPooling1D(data_format='channels_last')(chroma)\n",
    "        mean_layer = GlobalAveragePooling1D(data_format='channels_last')(chroma)\n",
    "        L2_layer = Lambda(lambda x: l2_norm(x, 1))(chroma)\n",
    "        #TODO:concatenate\n",
    "        chroma = concatenate([max_layer, mean_layer, L2_layer])\n",
    "        \n",
    "        mfcc = Conv1D(filters=self.num_conv_filters1, kernel_size=self.kernel_size, input_shape=(self.num_frames, self.num_freq_bins))(self.mfcc_input)\n",
    "        mfcc = MaxPooling1D(pool_size=self.pool_size1)(mfcc)\n",
    "        mfcc = Conv1D(filters=256, kernel_size=self.kernel_size)(mfcc)\n",
    "        mfcc = MaxPooling1D(pool_size=2)(mfcc)\n",
    "        mfcc = Conv1D(filters=512, kernel_size=self.kernel_size)(mfcc)\n",
    "        mfcc = MaxPooling1D(pool_size=2)(mfcc)\n",
    "        \n",
    "        mfcc = concatenate([max_layer, mean_layer, L2_layer])\n",
    "        x = concatenate([mfcc, chroma, self.embedding_input])\n",
    "        #End\n",
    "        x = Dense(2048, activation='relu')(x)\n",
    "        x = Dense(2048, activation='relu')(x)\n",
    "        latent_embedding = Dense(50, activation='relu', name='embedding')(x)\n",
    "        genre = Dense(num_genres, activation='softmax')(latent_embedding)\n",
    "        self.net = Model(inputs=[self.chroma_input, self.mfcc_input, self.embedding_input], outputs=genre)\n",
    "        self.embedding = Model(self.net.input, outputs=self.net.get_layer('embedding').output)"
   ]
  },
  {
   "cell_type": "code",
   "execution_count": 168,
   "metadata": {},
   "outputs": [
    {
     "name": "stdout",
     "output_type": "stream",
     "text": [
      "(6521, 300, 12)\n",
      "(6521, 18)\n"
     ]
    }
   ],
   "source": [
    "with open(\"data/mfcc.npy\", \"rb\") as f:\n",
    "    mfcc_features = np.load(f)\n",
    "with open(\"data/chroma.npy\", \"rb\") as f:\n",
    "    chroma_features = np.load(f)\n",
    "with open(\"data/genre_onehot.npy\", \"rb\") as f:\n",
    "    y = np.load(f)\n",
    "with open(\"data/embeddings.npy\", \"rb\") as f:   \n",
    "    embeddings = np.load(f)\n",
    "print(mfcc_features.shape)\n",
    "print(y.shape)"
   ]
  },
  {
   "cell_type": "code",
   "execution_count": 169,
   "metadata": {},
   "outputs": [
    {
     "name": "stdout",
     "output_type": "stream",
     "text": [
      "(5216, 300, 12) (5216, 18)\n"
     ]
    }
   ],
   "source": [
    "chromaTrain, chromaTest, mfccTrain, mfccTest, embeddingsTrain, embeddingsTest, yTrain, yTest = train_test_split(chroma_features, mfcc_features, embeddings, y, test_size = 0.2, random_state = 0)\n",
    "print(chromaTrain.shape, yTrain.shape)"
   ]
  },
  {
   "cell_type": "code",
   "execution_count": 170,
   "metadata": {},
   "outputs": [],
   "source": [
    "model = AudioCNNModel(300, 12, num_conv_filters_1, 4, kernel_size, num_genres, embedding_dimension)"
   ]
  },
  {
   "cell_type": "code",
   "execution_count": 171,
   "metadata": {},
   "outputs": [],
   "source": [
    "model.net.compile(loss=keras.losses.categorical_crossentropy, optimizer=keras.optimizers.Adam(lr=1e-4), metrics=['accuracy'])"
   ]
  },
  {
   "cell_type": "code",
   "execution_count": 172,
   "metadata": {},
   "outputs": [
    {
     "name": "stdout",
     "output_type": "stream",
     "text": [
      "Train on 4172 samples, validate on 1044 samples\n",
      "Epoch 1/50\n",
      "4172/4172 [==============================] - 5s 1ms/step - loss: 2.1621 - acc: 0.5031 - val_loss: 1.9265 - val_acc: 0.5335\n",
      "Epoch 2/50\n",
      "4172/4172 [==============================] - 2s 566us/step - loss: 1.8509 - acc: 0.5570 - val_loss: 1.8235 - val_acc: 0.5527\n",
      "Epoch 3/50\n",
      "4172/4172 [==============================] - 2s 583us/step - loss: 1.7851 - acc: 0.5597 - val_loss: 1.8462 - val_acc: 0.5536\n",
      "Epoch 4/50\n",
      "4172/4172 [==============================] - 2s 590us/step - loss: 1.7063 - acc: 0.5683 - val_loss: 1.7319 - val_acc: 0.5651\n",
      "Epoch 5/50\n",
      "4172/4172 [==============================] - 3s 624us/step - loss: 1.6191 - acc: 0.5700 - val_loss: 1.7419 - val_acc: 0.5565\n",
      "Epoch 6/50\n",
      "4172/4172 [==============================] - 3s 613us/step - loss: 1.5237 - acc: 0.5896 - val_loss: 1.6606 - val_acc: 0.5402\n",
      "Epoch 7/50\n",
      "4172/4172 [==============================] - 3s 603us/step - loss: 1.4311 - acc: 0.5923 - val_loss: 1.6343 - val_acc: 0.5057\n",
      "Epoch 8/50\n",
      "4172/4172 [==============================] - 3s 601us/step - loss: 1.3573 - acc: 0.6014 - val_loss: 1.6167 - val_acc: 0.5498\n",
      "Epoch 9/50\n",
      "4172/4172 [==============================] - 3s 633us/step - loss: 1.3234 - acc: 0.6033 - val_loss: 1.6483 - val_acc: 0.5335\n",
      "Epoch 10/50\n",
      "4172/4172 [==============================] - 2s 594us/step - loss: 1.2362 - acc: 0.6249 - val_loss: 1.5830 - val_acc: 0.5594\n",
      "Epoch 11/50\n",
      "4172/4172 [==============================] - 2s 575us/step - loss: 1.1650 - acc: 0.6421 - val_loss: 1.5552 - val_acc: 0.5297\n",
      "Epoch 12/50\n",
      "4172/4172 [==============================] - 3s 611us/step - loss: 1.1476 - acc: 0.6467 - val_loss: 1.5374 - val_acc: 0.5393\n",
      "Epoch 13/50\n",
      "4172/4172 [==============================] - 3s 632us/step - loss: 1.0392 - acc: 0.6716 - val_loss: 1.5536 - val_acc: 0.5441\n",
      "Epoch 14/50\n",
      "4172/4172 [==============================] - 2s 595us/step - loss: 0.9700 - acc: 0.6886 - val_loss: 1.8199 - val_acc: 0.5469\n",
      "Epoch 15/50\n",
      "4172/4172 [==============================] - 2s 575us/step - loss: 0.9707 - acc: 0.6937 - val_loss: 1.5696 - val_acc: 0.5278\n",
      "Epoch 16/50\n",
      "4172/4172 [==============================] - 3s 613us/step - loss: 0.8667 - acc: 0.7232 - val_loss: 1.5539 - val_acc: 0.5412\n",
      "Epoch 17/50\n",
      "4172/4172 [==============================] - 2s 592us/step - loss: 0.8394 - acc: 0.7337 - val_loss: 1.5859 - val_acc: 0.5077\n",
      "Epoch 18/50\n",
      "4172/4172 [==============================] - 2s 590us/step - loss: 0.8032 - acc: 0.7471 - val_loss: 1.7015 - val_acc: 0.5747\n",
      "Epoch 19/50\n",
      "4172/4172 [==============================] - 3s 652us/step - loss: 0.7123 - acc: 0.7771 - val_loss: 1.6907 - val_acc: 0.4914\n",
      "Epoch 20/50\n",
      "4172/4172 [==============================] - 3s 647us/step - loss: 0.6455 - acc: 0.7991 - val_loss: 1.6192 - val_acc: 0.5450\n",
      "Epoch 21/50\n",
      "4172/4172 [==============================] - 3s 606us/step - loss: 0.6076 - acc: 0.8147 - val_loss: 1.7380 - val_acc: 0.5527\n",
      "Epoch 22/50\n",
      "4172/4172 [==============================] - 2s 586us/step - loss: 0.5919 - acc: 0.8157 - val_loss: 1.7633 - val_acc: 0.4847\n",
      "Epoch 23/50\n",
      "4172/4172 [==============================] - 3s 602us/step - loss: 0.5255 - acc: 0.8411 - val_loss: 1.7068 - val_acc: 0.5345\n",
      "Epoch 24/50\n",
      "4172/4172 [==============================] - 3s 648us/step - loss: 0.4612 - acc: 0.8603 - val_loss: 1.8620 - val_acc: 0.5431\n",
      "Epoch 25/50\n",
      "4172/4172 [==============================] - 3s 624us/step - loss: 0.4032 - acc: 0.8835 - val_loss: 1.7798 - val_acc: 0.4808\n",
      "Epoch 26/50\n",
      "4172/4172 [==============================] - 2s 573us/step - loss: 0.3524 - acc: 0.9099 - val_loss: 1.9145 - val_acc: 0.5192\n",
      "Epoch 27/50\n",
      "4172/4172 [==============================] - 3s 627us/step - loss: 0.2891 - acc: 0.9283 - val_loss: 1.9925 - val_acc: 0.5374\n",
      "Epoch 28/50\n",
      "4172/4172 [==============================] - 3s 628us/step - loss: 0.2632 - acc: 0.9336 - val_loss: 2.0115 - val_acc: 0.5307\n",
      "Epoch 29/50\n",
      "4172/4172 [==============================] - 2s 584us/step - loss: 0.2183 - acc: 0.9525 - val_loss: 2.0240 - val_acc: 0.5010\n",
      "Epoch 30/50\n",
      "4172/4172 [==============================] - 3s 658us/step - loss: 0.1794 - acc: 0.9643 - val_loss: 2.2321 - val_acc: 0.5335\n",
      "Epoch 31/50\n",
      "4172/4172 [==============================] - 3s 601us/step - loss: 0.1658 - acc: 0.9660 - val_loss: 2.1753 - val_acc: 0.5527\n",
      "Epoch 32/50\n",
      "4172/4172 [==============================] - 3s 610us/step - loss: 0.1352 - acc: 0.9748 - val_loss: 2.2454 - val_acc: 0.5153\n",
      "Epoch 33/50\n",
      "4172/4172 [==============================] - 3s 628us/step - loss: 0.1208 - acc: 0.9772 - val_loss: 2.3167 - val_acc: 0.5383\n",
      "Epoch 34/50\n",
      "4172/4172 [==============================] - 3s 604us/step - loss: 0.1272 - acc: 0.9732 - val_loss: 2.5936 - val_acc: 0.5556\n",
      "Epoch 35/50\n",
      "4172/4172 [==============================] - 3s 701us/step - loss: 0.1270 - acc: 0.9748 - val_loss: 2.4967 - val_acc: 0.5211\n",
      "Epoch 36/50\n",
      "4172/4172 [==============================] - 3s 685us/step - loss: 0.0896 - acc: 0.9871 - val_loss: 2.4612 - val_acc: 0.5460\n",
      "Epoch 37/50\n",
      "4172/4172 [==============================] - 2s 573us/step - loss: 0.0594 - acc: 0.9923 - val_loss: 2.4738 - val_acc: 0.5345\n",
      "Epoch 38/50\n",
      "4172/4172 [==============================] - 3s 617us/step - loss: 0.0554 - acc: 0.9928 - val_loss: 2.5384 - val_acc: 0.5450\n",
      "Epoch 39/50\n",
      "4172/4172 [==============================] - 3s 604us/step - loss: 0.0433 - acc: 0.9950 - val_loss: 2.6176 - val_acc: 0.5393\n",
      "Epoch 40/50\n",
      "4172/4172 [==============================] - 2s 593us/step - loss: 0.0509 - acc: 0.9911 - val_loss: 2.6435 - val_acc: 0.5077\n",
      "Epoch 41/50\n",
      "4172/4172 [==============================] - 2s 575us/step - loss: 0.1047 - acc: 0.9775 - val_loss: 2.6210 - val_acc: 0.5297\n",
      "Epoch 42/50\n",
      "4172/4172 [==============================] - 3s 610us/step - loss: 0.0652 - acc: 0.9890 - val_loss: 2.5853 - val_acc: 0.5316\n",
      "Epoch 43/50\n",
      "4172/4172 [==============================] - 3s 657us/step - loss: 0.0430 - acc: 0.9947 - val_loss: 2.6638 - val_acc: 0.5278\n",
      "Epoch 44/50\n",
      "4172/4172 [==============================] - 3s 646us/step - loss: 0.0401 - acc: 0.9942 - val_loss: 2.7773 - val_acc: 0.5345\n",
      "Epoch 45/50\n",
      "4172/4172 [==============================] - 3s 631us/step - loss: 0.0293 - acc: 0.9957 - val_loss: 2.7649 - val_acc: 0.5201\n",
      "Epoch 46/50\n",
      "4172/4172 [==============================] - 2s 593us/step - loss: 0.0817 - acc: 0.9825 - val_loss: 2.8996 - val_acc: 0.5565\n",
      "Epoch 47/50\n",
      "4172/4172 [==============================] - 3s 602us/step - loss: 0.2892 - acc: 0.9056 - val_loss: 2.6711 - val_acc: 0.4981\n",
      "Epoch 48/50\n",
      "4172/4172 [==============================] - 3s 646us/step - loss: 0.1366 - acc: 0.9631 - val_loss: 2.5628 - val_acc: 0.5125\n",
      "Epoch 49/50\n",
      "4172/4172 [==============================] - 3s 643us/step - loss: 0.0582 - acc: 0.9921 - val_loss: 2.6148 - val_acc: 0.5364\n",
      "Epoch 50/50\n",
      "4172/4172 [==============================] - 3s 648us/step - loss: 0.0232 - acc: 0.9990 - val_loss: 2.7498 - val_acc: 0.5421\n"
     ]
    }
   ],
   "source": [
    "history = model.net.fit([chromaTrain, mfccTrain, embeddingsTrain], yTrain, validation_split=0.2, epochs=50, batch_size=100)"
   ]
  },
  {
   "cell_type": "code",
   "execution_count": 173,
   "metadata": {},
   "outputs": [
    {
     "name": "stdout",
     "output_type": "stream",
     "text": [
      "5216/5216 [==============================] - 1s 217us/step\n",
      "[0.5623757262039998, 0.9077837423312883]\n",
      "1305/1305 [==============================] - 0s 200us/step\n",
      "[2.9771907335040213, 0.5233716473040453]\n"
     ]
    }
   ],
   "source": [
    "print(model.net.evaluate([chromaTrain, mfccTrain, embeddingsTrain], yTrain))\n",
    "print(model.net.evaluate([chromaTest, mfccTest, embeddingsTest], yTest))"
   ]
  },
  {
   "cell_type": "code",
   "execution_count": 174,
   "metadata": {},
   "outputs": [
    {
     "data": {
      "image/png": "[encoded data removed]",
      "text/plain": [
       "<Figure size 864x576 with 1 Axes>"
      ]
     },
     "metadata": {},
     "output_type": "display_data"
    }
   ],
   "source": [
    "plt.figure(figsize=(12,8))\n",
    "plt.plot(history.history['acc'])\n",
    "plt.plot(history.history['val_acc'])\n",
    "plt.title('model accuracy')\n",
    "plt.ylabel('accuracy')\n",
    "plt.xlabel('epoch')\n",
    "plt.legend(['train', 'test'], loc='upper left')\n",
    "plt.show()"
   ]
  },
  {
   "cell_type": "code",
   "execution_count": 175,
   "metadata": {},
   "outputs": [],
   "source": [
    "model_json = model.net.to_json()\n",
    "with open('params/model_params_genre_v2.json', \"w\") as f:\n",
    "    f.write(model_json)\n",
    "model.net.save_weights(\"params/model_params_genre_v2.h5\")"
   ]
  },
  {
   "cell_type": "code",
   "execution_count": 144,
   "metadata": {},
   "outputs": [],
   "source": [
    "latent_embeddings = model.embedding.predict([chroma_features, mfcc_features, embeddings])"
   ]
  },
  {
   "cell_type": "code",
   "execution_count": 150,
   "metadata": {},
   "outputs": [
    {
     "name": "stdout",
     "output_type": "stream",
     "text": [
      "(5488, 50)\n"
     ]
    }
   ],
   "source": [
    "print(latent_embeddings.shape)"
   ]
  },
  {
   "cell_type": "code",
   "execution_count": 151,
   "metadata": {},
   "outputs": [],
   "source": [
    "np.save(open(\"data/latent_embeddings.npy\", \"wb\"), latent_embeddings)"
   ]
  },
  {
   "cell_type": "code",
   "execution_count": 60,
   "metadata": {},
   "outputs": [
    {
     "name": "stdout",
     "output_type": "stream",
     "text": [
      "210519\n",
      "210519\n",
      "TRAAAAV128F421A322\n"
     ]
    }
   ],
   "source": [
    "with open('data/embedding.pickle', \"rb\") as f:\n",
    "    u = pickle.load(f)\n",
    "print(len(u))\n",
    "with open('data/embedding_ids.pickle', \"rb\") as f:\n",
    "    v = pickle.load(f)\n",
    "print(len(v))\n",
    "print(v[0])"
   ]
  },
  {
   "cell_type": "code",
   "execution_count": 84,
   "metadata": {},
   "outputs": [],
   "source": [
    "embeddings_dict = {}\n",
    "for i in range(len(v)):\n",
    "    embeddings_dict[v[i]] = u[i]\n"
   ]
  },
  {
   "cell_type": "code",
   "execution_count": 161,
   "metadata": {},
   "outputs": [
    {
     "name": "stdout",
     "output_type": "stream",
     "text": [
      "TRMMMTK128F424EF7C\n",
      "(12022, 18)\n",
      "(12022, 300, 12)\n",
      "0\n",
      "1000\n",
      "2000\n",
      "3000\n",
      "4000\n",
      "5000\n",
      "6000\n",
      "7000\n",
      "8000\n",
      "9000\n",
      "10000\n",
      "11000\n",
      "12000\n",
      "(6521, 300)\n"
     ]
    }
   ],
   "source": [
    "  \n",
    "f = open(\"data/track_ids.txt\", \"r\")\n",
    "track_ids = f.readlines()\n",
    "f.close()\n",
    "print(track_ids[0].strip())\n",
    "\n",
    "with open(\"data/mfcc.npy\", \"rb\") as f:\n",
    "    mfcc_features = np.load(f)\n",
    "with open(\"data/chroma.npy\", \"rb\") as f:\n",
    "    chroma_features = np.load(f)\n",
    "with open(\"data/genre_onehot.npy\", \"rb\") as f:\n",
    "    y = np.load(f)\n",
    "# y = y.reshape((int(y.shape[0]/num_genres), num_genres))\n",
    "print(y.shape) \n",
    "print(mfcc_features.shape)\n",
    "relevant_track_ids = []\n",
    "embeddings = []\n",
    "delete_indices = []\n",
    "for i in range(len(track_ids)):\n",
    "    if i%1000==0:\n",
    "        print(i)\n",
    "    if embeddings_dict.get(track_ids[i].strip()) is not None:\n",
    "        embeddings += [np.array(embeddings_dict[track_ids[i].strip()])[0]]\n",
    "        relevant_track_ids += [track_ids[i]]\n",
    "    else:\n",
    "        delete_indices += [i]\n",
    "        \n",
    "chroma_features = np.delete(chroma_features, delete_indices, axis=0)\n",
    "mfcc_features = np.delete(mfcc_features, delete_indices, axis=0)\n",
    "y = np.delete(y, delete_indices, axis=0)\n",
    "\n",
    "embeddings = np.array(embeddings)\n",
    "print(embeddings.shape)"
   ]
  },
  {
   "cell_type": "code",
   "execution_count": 164,
   "metadata": {},
   "outputs": [
    {
     "name": "stdout",
     "output_type": "stream",
     "text": [
      "(6521, 300)\n",
      "(6521, 300, 12)\n",
      "(6521, 18)\n"
     ]
    }
   ],
   "source": [
    "embeddings = np.array(embeddings)\n",
    "print(embeddings.shape)\n",
    "print(mfcc_features.shape)\n",
    "print(y.shape)"
   ]
  },
  {
   "cell_type": "code",
   "execution_count": 163,
   "metadata": {},
   "outputs": [
    {
     "name": "stdout",
     "output_type": "stream",
     "text": [
      "6521\n",
      "6521\n"
     ]
    }
   ],
   "source": [
    "print(len(relevant_track_ids))\n",
    "print(len(list(set(relevant_track_ids))))"
   ]
  },
  {
   "cell_type": "code",
   "execution_count": 165,
   "metadata": {},
   "outputs": [],
   "source": [
    "np.save(open(\"data/chroma.npy\", \"wb\"), chroma_features)\n",
    "np.save(open(\"data/mfcc.npy\", \"wb\"), mfcc_features)\n",
    "np.save(open(\"data/genre_onehot.npy\", \"wb\"), y)\n",
    "np.save(open(\"data/embeddings.npy\", \"wb\"), embeddings) \n",
    "f = open(\"data/track_ids.txt\", \"w\")\n",
    "for track in relevant_track_ids:\n",
    "    f.write(track+\"\\n\")\n",
    "f.close()"
   ]
  },
  {
   "cell_type": "code",
   "execution_count": 154,
   "metadata": {},
   "outputs": [
    {
     "name": "stdout",
     "output_type": "stream",
     "text": [
      "10976\n",
      "2922\n"
     ]
    }
   ],
   "source": [
    "  \n",
    "f = open(\"data/track_ids.txt\", \"r\")\n",
    "track_ids = f.readlines()\n",
    "print(len(track_ids))\n",
    "s = set(track_ids)\n",
    "print(len(list(s)))\n",
    "f.close()"
   ]
  },
  {
   "cell_type": "code",
   "execution_count": 158,
   "metadata": {},
   "outputs": [
    {
     "name": "stdout",
     "output_type": "stream",
     "text": [
      "Requirement already satisfied: pydot in /home/ubuntu/anaconda3/envs/tensorflow_p36/lib/python3.6/site-packages (1.4.1)\n",
      "Requirement already satisfied: pyparsing>=2.1.4 in /home/ubuntu/anaconda3/envs/tensorflow_p36/lib/python3.6/site-packages (from pydot) (2.2.0)\n",
      "\u001b[33mYou are using pip version 10.0.1, however version 19.1 is available.\n",
      "You should consider upgrading via the 'pip install --upgrade pip' command.\u001b[0m\n"
     ]
    },
    {
     "ename": "ImportError",
     "evalue": "Failed to import `pydot`. Please install `pydot`. For example with `pip install pydot`.",
     "output_type": "error",
     "traceback": [
      "\u001b[0;31m---------------------------------------------------------------------------\u001b[0m",
      "\u001b[0;31mImportError\u001b[0m                               Traceback (most recent call last)",
      "\u001b[0;32m<ipython-input-158-80c4bdf8eb48>\u001b[0m in \u001b[0;36m<module>\u001b[0;34m()\u001b[0m\n\u001b[1;32m      1\u001b[0m \u001b[0mget_ipython\u001b[0m\u001b[0;34m(\u001b[0m\u001b[0;34m)\u001b[0m\u001b[0;34m.\u001b[0m\u001b[0msystem\u001b[0m\u001b[0;34m(\u001b[0m\u001b[0;34m'pip install pydot'\u001b[0m\u001b[0;34m)\u001b[0m\u001b[0;34m\u001b[0m\u001b[0m\n\u001b[1;32m      2\u001b[0m \u001b[0;32mfrom\u001b[0m \u001b[0mkeras\u001b[0m\u001b[0;34m.\u001b[0m\u001b[0mutils\u001b[0m\u001b[0;34m.\u001b[0m\u001b[0mvis_utils\u001b[0m \u001b[0;32mimport\u001b[0m \u001b[0mplot_model\u001b[0m\u001b[0;34m\u001b[0m\u001b[0m\n\u001b[0;32m----> 3\u001b[0;31m \u001b[0mplot_model\u001b[0m\u001b[0;34m(\u001b[0m\u001b[0mmodel\u001b[0m\u001b[0;34m.\u001b[0m\u001b[0mnet\u001b[0m\u001b[0;34m,\u001b[0m \u001b[0mto_file\u001b[0m\u001b[0;34m=\u001b[0m\u001b[0;34m'model_plot.png'\u001b[0m\u001b[0;34m,\u001b[0m \u001b[0mshow_shapes\u001b[0m\u001b[0;34m=\u001b[0m\u001b[0;32mTrue\u001b[0m\u001b[0;34m,\u001b[0m \u001b[0mshow_layer_names\u001b[0m\u001b[0;34m=\u001b[0m\u001b[0;32mTrue\u001b[0m\u001b[0;34m)\u001b[0m\u001b[0;34m\u001b[0m\u001b[0m\n\u001b[0m",
      "\u001b[0;32m~/anaconda3/envs/tensorflow_p36/lib/python3.6/site-packages/keras/utils/vis_utils.py\u001b[0m in \u001b[0;36mplot_model\u001b[0;34m(model, to_file, show_shapes, show_layer_names, rankdir)\u001b[0m\n\u001b[1;32m    130\u001b[0m             \u001b[0;34m'LR'\u001b[0m \u001b[0mcreates\u001b[0m \u001b[0ma\u001b[0m \u001b[0mhorizontal\u001b[0m \u001b[0mplot\u001b[0m\u001b[0;34m.\u001b[0m\u001b[0;34m\u001b[0m\u001b[0m\n\u001b[1;32m    131\u001b[0m     \"\"\"\n\u001b[0;32m--> 132\u001b[0;31m     \u001b[0mdot\u001b[0m \u001b[0;34m=\u001b[0m \u001b[0mmodel_to_dot\u001b[0m\u001b[0;34m(\u001b[0m\u001b[0mmodel\u001b[0m\u001b[0;34m,\u001b[0m \u001b[0mshow_shapes\u001b[0m\u001b[0;34m,\u001b[0m \u001b[0mshow_layer_names\u001b[0m\u001b[0;34m,\u001b[0m \u001b[0mrankdir\u001b[0m\u001b[0;34m)\u001b[0m\u001b[0;34m\u001b[0m\u001b[0m\n\u001b[0m\u001b[1;32m    133\u001b[0m     \u001b[0m_\u001b[0m\u001b[0;34m,\u001b[0m \u001b[0mextension\u001b[0m \u001b[0;34m=\u001b[0m \u001b[0mos\u001b[0m\u001b[0;34m.\u001b[0m\u001b[0mpath\u001b[0m\u001b[0;34m.\u001b[0m\u001b[0msplitext\u001b[0m\u001b[0;34m(\u001b[0m\u001b[0mto_file\u001b[0m\u001b[0;34m)\u001b[0m\u001b[0;34m\u001b[0m\u001b[0m\n\u001b[1;32m    134\u001b[0m     \u001b[0;32mif\u001b[0m \u001b[0;32mnot\u001b[0m \u001b[0mextension\u001b[0m\u001b[0;34m:\u001b[0m\u001b[0;34m\u001b[0m\u001b[0m\n",
      "\u001b[0;32m~/anaconda3/envs/tensorflow_p36/lib/python3.6/site-packages/keras/utils/vis_utils.py\u001b[0m in \u001b[0;36mmodel_to_dot\u001b[0;34m(model, show_shapes, show_layer_names, rankdir)\u001b[0m\n\u001b[1;32m     53\u001b[0m     \u001b[0;32mfrom\u001b[0m \u001b[0;34m.\u001b[0m\u001b[0;34m.\u001b[0m\u001b[0mmodels\u001b[0m \u001b[0;32mimport\u001b[0m \u001b[0mSequential\u001b[0m\u001b[0;34m\u001b[0m\u001b[0m\n\u001b[1;32m     54\u001b[0m \u001b[0;34m\u001b[0m\u001b[0m\n\u001b[0;32m---> 55\u001b[0;31m     \u001b[0m_check_pydot\u001b[0m\u001b[0;34m(\u001b[0m\u001b[0;34m)\u001b[0m\u001b[0;34m\u001b[0m\u001b[0m\n\u001b[0m\u001b[1;32m     56\u001b[0m     \u001b[0mdot\u001b[0m \u001b[0;34m=\u001b[0m \u001b[0mpydot\u001b[0m\u001b[0;34m.\u001b[0m\u001b[0mDot\u001b[0m\u001b[0;34m(\u001b[0m\u001b[0;34m)\u001b[0m\u001b[0;34m\u001b[0m\u001b[0m\n\u001b[1;32m     57\u001b[0m     \u001b[0mdot\u001b[0m\u001b[0;34m.\u001b[0m\u001b[0mset\u001b[0m\u001b[0;34m(\u001b[0m\u001b[0;34m'rankdir'\u001b[0m\u001b[0;34m,\u001b[0m \u001b[0mrankdir\u001b[0m\u001b[0;34m)\u001b[0m\u001b[0;34m\u001b[0m\u001b[0m\n",
      "\u001b[0;32m~/anaconda3/envs/tensorflow_p36/lib/python3.6/site-packages/keras/utils/vis_utils.py\u001b[0m in \u001b[0;36m_check_pydot\u001b[0;34m()\u001b[0m\n\u001b[1;32m     18\u001b[0m     \u001b[0;32mif\u001b[0m \u001b[0mpydot\u001b[0m \u001b[0;32mis\u001b[0m \u001b[0;32mNone\u001b[0m\u001b[0;34m:\u001b[0m\u001b[0;34m\u001b[0m\u001b[0m\n\u001b[1;32m     19\u001b[0m         raise ImportError(\n\u001b[0;32m---> 20\u001b[0;31m             \u001b[0;34m'Failed to import `pydot`. '\u001b[0m\u001b[0;34m\u001b[0m\u001b[0m\n\u001b[0m\u001b[1;32m     21\u001b[0m             \u001b[0;34m'Please install `pydot`. '\u001b[0m\u001b[0;34m\u001b[0m\u001b[0m\n\u001b[1;32m     22\u001b[0m             'For example with `pip install pydot`.')\n",
      "\u001b[0;31mImportError\u001b[0m: Failed to import `pydot`. Please install `pydot`. For example with `pip install pydot`."
     ]
    }
   ],
   "source": [
    "!pip install pydot\n",
    "from keras.utils.vis_utils import plot_model\n",
    "plot_model(model.net, to_file='model_plot.png', show_shapes=True, show_layer_names=True)"
   ]
  },
  {
   "cell_type": "code",
   "execution_count": 1,
   "metadata": {},
   "outputs": [
    {
     "name": "stderr",
     "output_type": "stream",
     "text": [
      "Using TensorFlow backend.\n"
     ]
    }
   ],
   "source": [
    "import keras\n",
    "from keras_self_attention import SeqSelfAttention"
   ]
  },
  {
   "cell_type": "code",
   "execution_count": null,
   "metadata": {},
   "outputs": [],
   "source": [
    "import keras\n",
    "from keras_self_attention import SeqSelfAttention\n",
    "\n",
    "class AudioLSTMModel():\n",
    "    def __init__(self, num_lstm_layers, LSTM_hidden_state_dim, num_time_frames, num_freq_bins, num_genres, lyrics_embedding_dimension, use_attention):\n",
    "        \n",
    "        self.num_time_frames = num_time_frames\n",
    "\n",
    "        self.chroma_input = Input(shape=(num_frames, num_freq_bins))\n",
    "        self.mfcc_input = Input(shape=(num_frames, num_freq_bins))\n",
    "        self.lyrics_embedding_input = Input(shape=(embedding_dimension,))\n",
    "        self.use_attention = use_attention\n",
    "        \n",
    "        \n",
    "        # chroma LSTM and attention\n",
    "        chroma = keras.layers.LSTM(units=LSTM_hidden_state_dim, return_state=True, input_shape=(self.num_frames, self.num_freq_bins))(self.chroma_input)\n",
    "        for _ in range(num_lstm_layers - 1):\n",
    "            chroma = keras.layers.LSTM(units=LSTM_hidden_state_dim, return_state=True)(chroma)\n",
    "        \n",
    "        if self.use_attention:\n",
    "            chroma = SeqSelfAttention(attention_type=SeqSelfAttention.ATTENTION_TYPE_MUL, name='AttentionChroma')(chroma)\n",
    "        \n",
    "        # MFCC LSTM and attetion\n",
    "        mfcc = keras.layers.LSTM(units=LSTM_hidden_state_dim, return_state=True, input_shape=(self.num_frames, self.num_freq_bins))(self.mfcc_input)\n",
    "        for _ in range(num_lstm_layers - 1):\n",
    "            mfcc = keras.layers.LSTM(units=LSTM_hidden_state_dim, return_state=True)(mfcc)\n",
    "        \n",
    "        if self.use_attention:\n",
    "            mfcc = SeqSelfAttention(attention_type=SeqSelfAttention.ATTENTION_TYPE_MUL, name='AttentionMFCC')(mfcc)\n",
    "                \n",
    "        \n",
    "        # concatinating the mfcc chroma and embedding features\n",
    "        x = concatenate([mfcc, chroma, self.embedding_input])\n",
    "\n",
    "        # putting the features through a couple fcnn. \n",
    "        x = Dense(2048, activation='relu')(x)\n",
    "        x = Dense(2048, activation='relu')(x)\n",
    "        \n",
    "        # the embedding vector for each song. \n",
    "        latent_embedding = Dense(50, activation='relu', name='embedding')(x)\n",
    "        genre = Dense(num_genres, activation='softmax')(latent_embedding)\n",
    "        self.net = Model(inputs=[self.chroma_input, self.mfcc_input, self.embedding_input], outputs=genre)\n",
    "        self.embedding = Model(self.net.input, outputs=self.net.get_layer('embedding').output)"
   ]
  }
 ],
 "metadata": {
  "kernelspec": {
   "display_name": "music-182-3",
   "language": "python",
   "name": "music-182-3"
  },
  "language_info": {
   "codemirror_mode": {
    "name": "ipython",
    "version": 3
   },
   "file_extension": ".py",
   "mimetype": "text/x-python",
   "name": "python",
   "nbconvert_exporter": "python",
   "pygments_lexer": "ipython3",
   "version": "3.6.8"
  }
 },
 "nbformat": 4,
 "nbformat_minor": 2
}
