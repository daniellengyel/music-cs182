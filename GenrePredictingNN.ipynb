{
 "cells": [
  {
   "cell_type": "code",
   "execution_count": 1,
   "metadata": {},
   "outputs": [
    {
     "name": "stderr",
     "output_type": "stream",
     "text": [
      "Using TensorFlow backend.\n"
     ]
    }
   ],
   "source": [
    "import tensorflow as tf\n",
    "import numpy as np\n",
    "import keras\n",
    "from keras.models import Model\n",
    "from keras.layers import Conv1D, MaxPooling1D, Dense, Lambda, concatenate, Input, GlobalMaxPooling1D, GlobalAveragePooling1D\n",
    "import keras.backend as K\n",
    "import pandas as pd\n",
    "import json\n",
    "import pickle\n",
    "import random\n",
    "import sklearn\n",
    "from sklearn.model_selection import train_test_split\n",
    "from sklearn.preprocessing import normalize\n",
    "import matplotlib.pyplot as plt"
   ]
  },
  {
   "cell_type": "code",
   "execution_count": 125,
   "metadata": {},
   "outputs": [],
   "source": [
    "num_frames = 599\n",
    "num_freq_bins = 128\n",
    "dummy_data = np.random.random((num_frames, num_freq_bins))\n",
    "num_conv_filters_1 = 256\n",
    "kernel_size = 4\n",
    "num_genres = 18\n",
    "embedding_dimension=300\n",
    "def l2_norm(x, axis):\n",
    "    x = x ** 2\n",
    "    x = K.sum(x, axis=axis)\n",
    "    x = K.sqrt(x)\n",
    "    return x"
   ]
  },
  {
   "cell_type": "code",
   "execution_count": null,
   "metadata": {},
   "outputs": [],
   "source": [
    "#Get embedding data\n"
   ]
  },
  {
   "cell_type": "code",
   "execution_count": 127,
   "metadata": {},
   "outputs": [],
   "source": [
    "class AudioCNNModel():\n",
    "    def __init__(self, num_frames, num_freq_bins, num_conv_filters1, pool_size_1, kernel_size, num_genres, embedding_dimension):\n",
    "        \n",
    "        self.num_frames = num_frames\n",
    "        self.num_freq_bins = num_freq_bins\n",
    "        self.num_conv_filters1 = num_conv_filters1\n",
    "        self.pool_size1 = pool_size_1\n",
    "        self.kernel_size = kernel_size\n",
    "        self.chroma_input = Input(shape=(num_frames, num_freq_bins))\n",
    "        self.mfcc_input = Input(shape=(num_frames, num_freq_bins))\n",
    "        self.embedding_input = Input(shape=(embedding_dimension,))\n",
    "        \n",
    "        chroma = Conv1D(filters=self.num_conv_filters1, kernel_size=self.kernel_size, input_shape=(self.num_frames, self.num_freq_bins))(self.chroma_input)\n",
    "        chroma = MaxPooling1D(pool_size=self.pool_size1)(chroma)\n",
    "        chroma = Conv1D(filters=256, kernel_size=self.kernel_size)(chroma)\n",
    "        chroma = MaxPooling1D(pool_size=2)(chroma)\n",
    "        chroma = Conv1D(filters=512, kernel_size=self.kernel_size)(chroma)\n",
    "        chroma = MaxPooling1D(pool_size=2)(chroma)\n",
    "\n",
    "        #temporal pooling, L2, mean\n",
    "        max_layer = GlobalMaxPooling1D(data_format='channels_last')(chroma)\n",
    "        mean_layer = GlobalAveragePooling1D(data_format='channels_last')(chroma)\n",
    "        L2_layer = Lambda(lambda x: l2_norm(x, 1))(chroma)\n",
    "        #TODO:concatenate\n",
    "        chroma = concatenate([max_layer, mean_layer, L2_layer])\n",
    "        \n",
    "        mfcc = Conv1D(filters=self.num_conv_filters1, kernel_size=self.kernel_size, input_shape=(self.num_frames, self.num_freq_bins))(self.mfcc_input)\n",
    "        mfcc = MaxPooling1D(pool_size=self.pool_size1)(mfcc)\n",
    "        mfcc = Conv1D(filters=256, kernel_size=self.kernel_size)(mfcc)\n",
    "        mfcc = MaxPooling1D(pool_size=2)(mfcc)\n",
    "        mfcc = Conv1D(filters=512, kernel_size=self.kernel_size)(mfcc)\n",
    "        mfcc = MaxPooling1D(pool_size=2)(mfcc)\n",
    "        \n",
    "        mfcc = concatenate([max_layer, mean_layer, L2_layer])\n",
    "        x = concatenate([mfcc, chroma, self.embedding_input])\n",
    "        #End\n",
    "        x = Dense(2048, activation='relu')(x)\n",
    "        x = Dense(2048, activation='relu')(x)\n",
    "        latent_embedding = Dense(50, activation='relu', name='embedding')(x)\n",
    "        genre = Dense(num_genres, activation='softmax')(latent_embedding)\n",
    "        self.net = Model(inputs=[self.chroma_input, self.mfcc_input, self.embedding_input], outputs=genre)\n",
    "        self.embedding = Model(self.net.input, outputs=self.net.get_layer('embedding').output)"
   ]
  },
  {
   "cell_type": "code",
   "execution_count": 113,
   "metadata": {},
   "outputs": [
    {
     "name": "stdout",
     "output_type": "stream",
     "text": [
      "(5488, 300, 12)\n",
      "(5488, 18)\n"
     ]
    }
   ],
   "source": [
    "with open(\"data/mfcc.npy\", \"rb\") as f:\n",
    "    mfcc_features = np.load(f)\n",
    "with open(\"data/chroma.npy\", \"rb\") as f:\n",
    "    chroma_features = np.load(f)\n",
    "with open(\"data/genre_onehot.npy\", \"rb\") as f:\n",
    "    y = np.load(f)\n",
    "with open(\"data/embeddings.npy\", \"rb\") as f:   \n",
    "    embeddings = np.load(f)\n",
    "print(mfcc_features.shape)\n",
    "print(y.shape)"
   ]
  },
  {
   "cell_type": "code",
   "execution_count": 123,
   "metadata": {},
   "outputs": [
    {
     "name": "stdout",
     "output_type": "stream",
     "text": [
      "(4390, 300, 12) (4390, 18)\n"
     ]
    }
   ],
   "source": [
    "chromaTrain, chromaTest, mfccTrain, mfccTest, embeddingsTrain, embeddingsTest, yTrain, yTest = train_test_split(chroma_features, mfcc_features, embeddings, y, test_size = 0.2, random_state = 0)\n",
    "print(chromaTrain.shape, yTrain.shape)"
   ]
  },
  {
   "cell_type": "code",
   "execution_count": 134,
   "metadata": {},
   "outputs": [],
   "source": [
    "model = AudioCNNModel(300, 12, num_conv_filters_1, 4, kernel_size, num_genres, embedding_dimension)"
   ]
  },
  {
   "cell_type": "code",
   "execution_count": 135,
   "metadata": {},
   "outputs": [],
   "source": [
    "model.net.compile(loss=keras.losses.categorical_crossentropy, optimizer=keras.optimizers.Adam(lr=1e-4), metrics=['accuracy'])"
   ]
  },
  {
   "cell_type": "code",
   "execution_count": 136,
   "metadata": {},
   "outputs": [
    {
     "name": "stdout",
     "output_type": "stream",
     "text": [
      "Train on 3512 samples, validate on 878 samples\n",
      "Epoch 1/50\n",
      "3512/3512 [==============================] - 4s 1ms/step - loss: 2.3821 - acc: 0.4909 - val_loss: 1.7726 - val_acc: 0.5456\n",
      "Epoch 2/50\n",
      "3512/3512 [==============================] - 2s 571us/step - loss: 1.7823 - acc: 0.5285 - val_loss: 1.9819 - val_acc: 0.4169\n",
      "Epoch 3/50\n",
      "3512/3512 [==============================] - 2s 592us/step - loss: 1.6656 - acc: 0.5416 - val_loss: 1.5956 - val_acc: 0.5410\n",
      "Epoch 4/50\n",
      "3512/3512 [==============================] - 2s 587us/step - loss: 1.4697 - acc: 0.5686 - val_loss: 1.5110 - val_acc: 0.5797\n",
      "Epoch 5/50\n",
      "3512/3512 [==============================] - 2s 592us/step - loss: 1.3712 - acc: 0.6005 - val_loss: 1.5968 - val_acc: 0.5934\n",
      "Epoch 6/50\n",
      "3512/3512 [==============================] - 2s 576us/step - loss: 1.3001 - acc: 0.6085 - val_loss: 1.4753 - val_acc: 0.5638\n",
      "Epoch 7/50\n",
      "3512/3512 [==============================] - 2s 630us/step - loss: 1.1871 - acc: 0.6318 - val_loss: 1.4198 - val_acc: 0.5820\n",
      "Epoch 8/50\n",
      "3512/3512 [==============================] - 2s 569us/step - loss: 1.1137 - acc: 0.6552 - val_loss: 1.3040 - val_acc: 0.6128\n",
      "Epoch 9/50\n",
      "3512/3512 [==============================] - 2s 593us/step - loss: 1.0311 - acc: 0.6780 - val_loss: 1.2822 - val_acc: 0.6344\n",
      "Epoch 10/50\n",
      "3512/3512 [==============================] - 2s 637us/step - loss: 0.9531 - acc: 0.6956 - val_loss: 1.2338 - val_acc: 0.6412\n",
      "Epoch 11/50\n",
      "3512/3512 [==============================] - 2s 590us/step - loss: 0.8777 - acc: 0.7252 - val_loss: 1.2398 - val_acc: 0.6378\n",
      "Epoch 12/50\n",
      "3512/3512 [==============================] - 2s 568us/step - loss: 0.8147 - acc: 0.7383 - val_loss: 1.1891 - val_acc: 0.6355\n",
      "Epoch 13/50\n",
      "3512/3512 [==============================] - 2s 567us/step - loss: 0.7474 - acc: 0.7631 - val_loss: 1.1349 - val_acc: 0.6754\n",
      "Epoch 14/50\n",
      "3512/3512 [==============================] - 2s 588us/step - loss: 0.6654 - acc: 0.7930 - val_loss: 1.0755 - val_acc: 0.6948\n",
      "Epoch 15/50\n",
      "3512/3512 [==============================] - 2s 608us/step - loss: 0.5663 - acc: 0.8255 - val_loss: 1.1045 - val_acc: 0.6834\n",
      "Epoch 16/50\n",
      "3512/3512 [==============================] - 2s 605us/step - loss: 0.5125 - acc: 0.8462 - val_loss: 1.1462 - val_acc: 0.6913\n",
      "Epoch 17/50\n",
      "3512/3512 [==============================] - 2s 602us/step - loss: 0.4766 - acc: 0.8605 - val_loss: 1.3895 - val_acc: 0.6572\n",
      "Epoch 18/50\n",
      "3512/3512 [==============================] - 2s 640us/step - loss: 0.4397 - acc: 0.8685 - val_loss: 1.0903 - val_acc: 0.7016\n",
      "Epoch 19/50\n",
      "3512/3512 [==============================] - 2s 661us/step - loss: 0.4037 - acc: 0.8838 - val_loss: 1.0817 - val_acc: 0.7278\n",
      "Epoch 20/50\n",
      "3512/3512 [==============================] - 2s 592us/step - loss: 0.3132 - acc: 0.9180 - val_loss: 1.0651 - val_acc: 0.7483\n",
      "Epoch 21/50\n",
      "3512/3512 [==============================] - 2s 622us/step - loss: 0.2857 - acc: 0.9217 - val_loss: 1.0837 - val_acc: 0.7426\n",
      "Epoch 22/50\n",
      "3512/3512 [==============================] - 2s 601us/step - loss: 0.2479 - acc: 0.9413 - val_loss: 1.0297 - val_acc: 0.7574\n",
      "Epoch 23/50\n",
      "3512/3512 [==============================] - 2s 596us/step - loss: 0.2261 - acc: 0.9465 - val_loss: 1.0564 - val_acc: 0.7620\n",
      "Epoch 24/50\n",
      "3512/3512 [==============================] - 2s 593us/step - loss: 0.1883 - acc: 0.9607 - val_loss: 0.9989 - val_acc: 0.7859\n",
      "Epoch 25/50\n",
      "3512/3512 [==============================] - 2s 596us/step - loss: 0.1521 - acc: 0.9704 - val_loss: 1.0915 - val_acc: 0.7847\n",
      "Epoch 26/50\n",
      "3512/3512 [==============================] - 2s 567us/step - loss: 0.1371 - acc: 0.9755 - val_loss: 1.0417 - val_acc: 0.7802\n",
      "Epoch 27/50\n",
      "3512/3512 [==============================] - 2s 682us/step - loss: 0.1065 - acc: 0.9858 - val_loss: 1.0990 - val_acc: 0.8075\n",
      "Epoch 28/50\n",
      "3512/3512 [==============================] - 2s 595us/step - loss: 0.1075 - acc: 0.9806 - val_loss: 1.0916 - val_acc: 0.7916\n",
      "Epoch 29/50\n",
      "3512/3512 [==============================] - 2s 609us/step - loss: 0.0823 - acc: 0.9897 - val_loss: 0.9895 - val_acc: 0.7995\n",
      "Epoch 30/50\n",
      "3512/3512 [==============================] - 2s 617us/step - loss: 0.0661 - acc: 0.9920 - val_loss: 1.1421 - val_acc: 0.8041\n",
      "Epoch 31/50\n",
      "3512/3512 [==============================] - 2s 615us/step - loss: 0.0416 - acc: 0.9969 - val_loss: 1.0627 - val_acc: 0.8087\n",
      "Epoch 32/50\n",
      "3512/3512 [==============================] - 2s 592us/step - loss: 0.0372 - acc: 0.9969 - val_loss: 1.1069 - val_acc: 0.8121\n",
      "Epoch 33/50\n",
      "3512/3512 [==============================] - 2s 614us/step - loss: 0.0257 - acc: 0.9989 - val_loss: 1.0978 - val_acc: 0.8098\n",
      "Epoch 34/50\n",
      "3512/3512 [==============================] - 2s 568us/step - loss: 0.0205 - acc: 0.9997 - val_loss: 1.0879 - val_acc: 0.8109\n",
      "Epoch 35/50\n",
      "3512/3512 [==============================] - 2s 546us/step - loss: 0.0178 - acc: 0.9997 - val_loss: 1.1148 - val_acc: 0.8075\n",
      "Epoch 36/50\n",
      "3512/3512 [==============================] - 2s 640us/step - loss: 0.0153 - acc: 0.9997 - val_loss: 1.1253 - val_acc: 0.8018\n",
      "Epoch 37/50\n",
      "3512/3512 [==============================] - 2s 676us/step - loss: 0.0128 - acc: 0.9997 - val_loss: 1.1342 - val_acc: 0.8109\n",
      "Epoch 38/50\n",
      "3512/3512 [==============================] - 2s 590us/step - loss: 0.0116 - acc: 1.0000 - val_loss: 1.1471 - val_acc: 0.8075\n",
      "Epoch 39/50\n",
      "3512/3512 [==============================] - 2s 635us/step - loss: 0.0101 - acc: 1.0000 - val_loss: 1.1746 - val_acc: 0.8098\n",
      "Epoch 40/50\n",
      "3512/3512 [==============================] - 2s 615us/step - loss: 0.0092 - acc: 1.0000 - val_loss: 1.1808 - val_acc: 0.8018\n",
      "Epoch 41/50\n",
      "3512/3512 [==============================] - 2s 639us/step - loss: 0.0088 - acc: 1.0000 - val_loss: 1.1701 - val_acc: 0.8041\n",
      "Epoch 42/50\n",
      "3512/3512 [==============================] - 2s 571us/step - loss: 0.0086 - acc: 1.0000 - val_loss: 1.1713 - val_acc: 0.8052\n",
      "Epoch 43/50\n",
      "3512/3512 [==============================] - 2s 586us/step - loss: 0.0071 - acc: 1.0000 - val_loss: 1.1865 - val_acc: 0.8052\n",
      "Epoch 44/50\n",
      "3512/3512 [==============================] - 2s 559us/step - loss: 0.0063 - acc: 1.0000 - val_loss: 1.2046 - val_acc: 0.8018\n",
      "Epoch 45/50\n",
      "3512/3512 [==============================] - 2s 588us/step - loss: 0.0059 - acc: 1.0000 - val_loss: 1.2283 - val_acc: 0.8132\n",
      "Epoch 46/50\n",
      "3512/3512 [==============================] - 2s 570us/step - loss: 0.0054 - acc: 1.0000 - val_loss: 1.2028 - val_acc: 0.8087\n",
      "Epoch 47/50\n",
      "3512/3512 [==============================] - 2s 585us/step - loss: 0.0049 - acc: 1.0000 - val_loss: 1.2135 - val_acc: 0.8087\n",
      "Epoch 48/50\n",
      "3512/3512 [==============================] - 2s 638us/step - loss: 0.0046 - acc: 1.0000 - val_loss: 1.2228 - val_acc: 0.8098\n",
      "Epoch 49/50\n",
      "3512/3512 [==============================] - 2s 595us/step - loss: 0.0042 - acc: 1.0000 - val_loss: 1.2312 - val_acc: 0.8052\n",
      "Epoch 50/50\n",
      "3512/3512 [==============================] - 2s 589us/step - loss: 0.0040 - acc: 1.0000 - val_loss: 1.2355 - val_acc: 0.8041\n"
     ]
    }
   ],
   "source": [
    "history = model.net.fit([chromaTrain, mfccTrain, embeddingsTrain], yTrain, validation_split=0.2, epochs=50, batch_size=100)"
   ]
  },
  {
   "cell_type": "code",
   "execution_count": 137,
   "metadata": {},
   "outputs": [
    {
     "name": "stdout",
     "output_type": "stream",
     "text": [
      "4390/4390 [==============================] - 1s 220us/step\n",
      "[0.2499573941518614, 0.9608200455852413]\n",
      "1098/1098 [==============================] - 0s 190us/step\n",
      "[1.1006588136780675, 0.8214936248808827]\n"
     ]
    }
   ],
   "source": [
    "print(model.net.evaluate([chromaTrain, mfccTrain, embeddingsTrain], yTrain))\n",
    "print(model.net.evaluate([chromaTest, mfccTest, embeddingsTest], yTest))"
   ]
  },
  {
   "cell_type": "code",
   "execution_count": 149,
   "metadata": {},
   "outputs": [
    {
     "data": {
      "image/png": "[encoded data removed]",
      "text/plain": [
       "<Figure size 864x576 with 1 Axes>"
      ]
     },
     "metadata": {},
     "output_type": "display_data"
    }
   ],
   "source": [
    "plt.figure(figsize=(12,8))\n",
    "plt.plot(history.history['acc'])\n",
    "plt.plot(history.history['val_acc'])\n",
    "plt.title('model accuracy')\n",
    "plt.ylabel('accuracy')\n",
    "plt.xlabel('epoch')\n",
    "plt.legend(['train', 'test'], loc='upper left')\n",
    "plt.show()"
   ]
  },
  {
   "cell_type": "code",
   "execution_count": 142,
   "metadata": {},
   "outputs": [],
   "source": [
    "model_json = model.net.to_json()\n",
    "with open('params/model_params_genre_v1.json', \"w\") as f:\n",
    "    f.write(model_json)\n",
    "model.net.save_weights(\"params/model_params_genre_v1.h5\")"
   ]
  },
  {
   "cell_type": "code",
   "execution_count": 144,
   "metadata": {},
   "outputs": [],
   "source": [
    "latent_embeddings = model.embedding.predict([chroma_features, mfcc_features, embeddings])"
   ]
  },
  {
   "cell_type": "code",
   "execution_count": 145,
   "metadata": {},
   "outputs": [],
   "source": [
    "np.save(open(\"data/latent_embeddings.npy\", \"wb\"), chroma_features)"
   ]
  },
  {
   "cell_type": "code",
   "execution_count": 60,
   "metadata": {},
   "outputs": [
    {
     "name": "stdout",
     "output_type": "stream",
     "text": [
      "210519\n",
      "210519\n",
      "TRAAAAV128F421A322\n"
     ]
    }
   ],
   "source": [
    "with open('data/embedding.pickle', \"rb\") as f:\n",
    "    u = pickle.load(f)\n",
    "print(len(u))\n",
    "with open('data/embedding_ids.pickle', \"rb\") as f:\n",
    "    v = pickle.load(f)\n",
    "print(len(v))\n",
    "print(v[0])"
   ]
  },
  {
   "cell_type": "code",
   "execution_count": 84,
   "metadata": {},
   "outputs": [],
   "source": [
    "embeddings_dict = {}\n",
    "for i in range(len(v)):\n",
    "    embeddings_dict[v[i]] = u[i]\n"
   ]
  },
  {
   "cell_type": "code",
   "execution_count": 108,
   "metadata": {},
   "outputs": [
    {
     "name": "stdout",
     "output_type": "stream",
     "text": [
      "TRMMMTK128F424EF7C\n",
      "(10000, 18)\n",
      "(10000, 300, 12)\n",
      "0\n",
      "1000\n",
      "2000\n",
      "3000\n",
      "4000\n",
      "5000\n",
      "6000\n",
      "7000\n",
      "8000\n",
      "9000\n",
      "(5488, 300)\n"
     ]
    }
   ],
   "source": [
    "  \n",
    "f = open(\"track_ids.txt\", \"r\")\n",
    "track_ids = f.readlines()\n",
    "f.close()\n",
    "print(track_ids[0].strip())\n",
    "\n",
    "with open(\"data/mfcc.npy\", \"rb\") as f:\n",
    "    mfcc_features = np.load(f)\n",
    "with open(\"data/chroma.npy\", \"rb\") as f:\n",
    "    chroma_features = np.load(f)\n",
    "with open(\"data/genre_onehot.npy\", \"rb\") as f:\n",
    "    y = np.load(f)\n",
    "y = y.reshape((int(y.shape[0]/num_genres), num_genres))\n",
    "print(y.shape) \n",
    "print(mfcc_features.shape)\n",
    "relevant_track_ids = []\n",
    "embeddings = []\n",
    "delete_indices = []\n",
    "for i in range(len(track_ids)):\n",
    "    if i%1000==0:\n",
    "        print(i)\n",
    "    if embeddings_dict.get(track_ids[i].strip()) is not None:\n",
    "        embeddings += [np.array(embeddings_dict[track_ids[i].strip()])[0]]\n",
    "        relevant_track_ids += [track_ids[i]]\n",
    "    else:\n",
    "        delete_indices += [i]\n",
    "        \n",
    "chroma_features = np.delete(chroma_features, delete_indices, axis=0)\n",
    "mfcc_features = np.delete(mfcc_features, delete_indices, axis=0)\n",
    "y = np.delete(y, delete_indices, axis=0)\n",
    "\n",
    "embeddings = np.array(embeddings)\n",
    "print(embeddings.shape)"
   ]
  },
  {
   "cell_type": "code",
   "execution_count": 109,
   "metadata": {},
   "outputs": [
    {
     "name": "stdout",
     "output_type": "stream",
     "text": [
      "(5488, 300)\n",
      "(5488, 300, 12)\n",
      "(5488, 18)\n"
     ]
    }
   ],
   "source": [
    "embeddings = np.array(embeddings)\n",
    "print(embeddings.shape)\n",
    "print(mfcc_features.shape)\n",
    "print(y.shape)"
   ]
  },
  {
   "cell_type": "code",
   "execution_count": 110,
   "metadata": {},
   "outputs": [
    {
     "name": "stdout",
     "output_type": "stream",
     "text": [
      "5488\n"
     ]
    }
   ],
   "source": [
    "print(len(relevant_track_ids))"
   ]
  },
  {
   "cell_type": "code",
   "execution_count": 112,
   "metadata": {},
   "outputs": [],
   "source": [
    "np.save(open(\"data/chroma.npy\", \"wb\"), chroma_features)\n",
    "np.save(open(\"data/mfcc.npy\", \"wb\"), mfcc_features)\n",
    "np.save(open(\"data/genre_onehot.npy\", \"wb\"), y)\n",
    "np.save(open(\"data/embeddings.npy\", \"wb\"), embeddings) \n",
    "f = open(\"track_ids.txt\", \"w\")\n",
    "for track in relevant_track_ids:\n",
    "    f.write(track+\"\\n\")\n",
    "f.close()"
   ]
  },
  {
   "cell_type": "code",
   "execution_count": null,
   "metadata": {},
   "outputs": [],
   "source": []
  }
 ],
 "metadata": {
  "kernelspec": {
   "display_name": "Environment (conda_tensorflow_p36)",
   "language": "python",
   "name": "conda_tensorflow_p36"
  },
  "language_info": {
   "codemirror_mode": {
    "name": "ipython",
    "version": 3
   },
   "file_extension": ".py",
   "mimetype": "text/x-python",
   "name": "python",
   "nbconvert_exporter": "python",
   "pygments_lexer": "ipython3",
   "version": "3.6.5"
  }
 },
 "nbformat": 4,
 "nbformat_minor": 2
}
